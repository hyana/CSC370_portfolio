{
 "cells": [
  {
   "cell_type": "code",
   "execution_count": 102,
   "id": "eaa92a55",
   "metadata": {},
   "outputs": [],
   "source": [
    "%matplotlib inline\n",
    "\n",
    "from matplotlib import image\n",
    "from matplotlib import pyplot as plt\n",
    "import numpy as np\n",
    "from numpy import matlib\n",
    "import cv2\n",
    "from skimage import io, morphology, color\n",
    "from skimage.util import view_as_windows as viewW\n",
    "import sys\n",
    "from scipy import ndimage\n",
    "from random import randint, gauss\n",
    "import random\n",
    "import math"
   ]
  },
  {
   "cell_type": "code",
   "execution_count": 2,
   "id": "3321938f",
   "metadata": {},
   "outputs": [],
   "source": [
    "np.set_printoptions(threshold=sys.maxsize)"
   ]
  },
  {
   "cell_type": "markdown",
   "id": "2a1799ef",
   "metadata": {},
   "source": [
    "Let SampleImage contain the image we are sampling from and let Image be the mostly empty image that we want to fill in (if synthesizing from scratch, it should contain a 3-by-3 seed in the center randomly taken from SampleImage, for constrained synthesis it should contain all the known pixels). WindowSize, the size of the neighborhood window, is the only user-settable parameter. The main portion of the algorithm is presented below:"
   ]
  },
  {
   "cell_type": "code",
   "execution_count": 162,
   "id": "e55164c9",
   "metadata": {},
   "outputs": [],
   "source": [
    "# Pre-processing\n",
    "#img = Image.open('text3.png')\n",
    "# SampleImage = io.imread('text3.gif')\n",
    "apples = image.imread('apples.png')\n",
    "SampleImage = color.rgba2rgb(apples)\n",
    "ErrThreshold = 0.1\n",
    "MaxErrThreshold = 0.3\n",
    "WindowSize = 15\n",
    "Sigma = WindowSize/6.4\n",
    "seed = 3"
   ]
  },
  {
   "cell_type": "code",
   "execution_count": 163,
   "id": "18067bcd",
   "metadata": {},
   "outputs": [],
   "source": [
    "def CreateSample(SampleImage, WindowSize, outputSize):\n",
    "    new_row, new_col = outputSize[0], outputSize[1]\n",
    "    # create 3 by 3 seed patch\n",
    "    row, col = SampleImage.shape[0], SampleImage.shape[1]\n",
    "    rand_row = randint(0, row - seed)\n",
    "    rand_col = randint(0, col - seed)\n",
    "    # create an empty output and filled checker (maybe no need in my code)\n",
    "    Image = np.zeros((row+new_row, row+new_col, 3))\n",
    "    Image[0:row, 0:col, :] = SampleImage[:,:,:]\n",
    "    filledChecker = np.zeros((row+new_row, row+new_col), dtype=np.int8)\n",
    "    \n",
    "    # add our current image to the empty output\n",
    "    center_seed = math.floor(seed / 2)\n",
    "    center_row_up = math.floor(new_row/2) - center_seed\n",
    "    center_row_down = math.floor(new_row/2) + center_seed + 1\n",
    "    center_col_left = math.floor(new_col/2) - center_seed\n",
    "    center_col_right = math.floor(new_col/2) + center_seed + 1\n",
    "    \n",
    "#     Image[center_row_up: center_row_down, center_col_left: center_col_right, :] = seed_img[:,:,:]\n",
    "    filledChecker[0:row, 0:col] = 1\n",
    "\n",
    "    return Image, filledChecker"
   ]
  },
  {
   "cell_type": "code",
   "execution_count": 164,
   "id": "c23d6ac4",
   "metadata": {},
   "outputs": [],
   "source": [
    "Image, filledChecker = CreateSample(SampleImage, seed, (100,100))"
   ]
  },
  {
   "cell_type": "code",
   "execution_count": 165,
   "id": "742ae5e2",
   "metadata": {},
   "outputs": [
    {
     "data": {
      "text/plain": [
       "<matplotlib.image.AxesImage at 0x7fc4896f1d00>"
      ]
     },
     "execution_count": 165,
     "metadata": {},
     "output_type": "execute_result"
    },
    {
     "data": {
      "image/png": "[encoded data removed]",
      "text/plain": [
       "<Figure size 432x288 with 1 Axes>"
      ]
     },
     "metadata": {
      "needs_background": "light"
     },
     "output_type": "display_data"
    }
   ],
   "source": [
    "plt.imshow(filledChecker)"
   ]
  },
  {
   "cell_type": "code",
   "execution_count": null,
   "id": "93543081",
   "metadata": {},
   "outputs": [],
   "source": []
  },
  {
   "cell_type": "code",
   "execution_count": 166,
   "id": "1a72e9b8",
   "metadata": {},
   "outputs": [],
   "source": [
    "# B = colfilt(A,[m n],block_type,fun) processes the image A by rearranging each m-by-n block of A \n",
    "# into a column of a temporary matrix, and then applying the function fun to this matrix. \n",
    "# colfilt zero-pads A, if necessary.\n",
    "def colfilt(M, win_size):\n",
    "    rows, cols = M.shape\n",
    "    new_M = np.zeros((rows, cols))\n",
    "    pad = win_size // 2\n",
    "    for i in range(pad, rows):\n",
    "        for j in range(pad, cols):\n",
    "            new_M[i,j] = sum(sum(M[i-pad : i+pad+1, j-pad : j+pad+1]))\n",
    "    return new_M"
   ]
  },
  {
   "cell_type": "code",
   "execution_count": 184,
   "id": "c2ab2592",
   "metadata": {},
   "outputs": [],
   "source": [
    "def GetNeighborhoodWindow(Image, filledChecker, WindowSize, pixel_row, pixel_col):\n",
    "    center_win = math.floor((WindowSize - 1)/ 2)\n",
    "    outputRow, outputCol = Image.shape[0], Image.shape[1]\n",
    "    rLow, rHigh = pixel_row - center_win, pixel_row + center_win +1\n",
    "    cLow, cHigh = pixel_col - center_win, pixel_col + center_win+1\n",
    "    \n",
    "    rowRange = np.arange(rLow, rHigh)\n",
    "    colRange = np.arange(cLow, cHigh)\n",
    "    \n",
    "    row_invHigh = rowRange > outputRow\n",
    "    row_invLow = rowRange < 0\n",
    "\n",
    "    col_invHigh = colRange > outputRow\n",
    "    col_invLow = colRange < 0\n",
    "    \n",
    "    badRow = row_invHigh.any() or row_invLow.any()\n",
    "    badCol = col_invHigh.any() or col_invLow.any() \n",
    "    \n",
    "    if (badRow.any() == 1 or badCol.any() == 1):\n",
    "        goodRow = rowRange[~badRow]\n",
    "        goodCol = colRange[~badCol]\n",
    "        template = np.zeros([WindowSize, WindowSize, 3])\n",
    "        template[goodRow, goodCol, :] = Image[goodRow, goodCol, :]\n",
    "        validMask = np.zeros([WindowSize, WindowSize])\n",
    "        validMask[~badRow, ~badCol] = filledChecker[goodRow, goodCol]\n",
    "    else:\n",
    "        if colRange[2] > filledChecker.shape[1]:\n",
    "            colRange[2] -=1\n",
    "        template = Image[rLow:rHigh, cLow:cHigh, :]\n",
    "        validMask = filledChecker[rLow:rHigh, cLow:cHigh]\n",
    "#     neighbors = []\n",
    "#     center_win = win_size - 1 // 2\n",
    "#     neighbors.append([np.sum(checker[pixel[0] - center_win : pixel[0] + center_win + 1, pixel[1] - center_win: pixel[1] + center_win + 1])])\n",
    "    return template, validMask"
   ]
  },
  {
   "cell_type": "code",
   "execution_count": 251,
   "id": "34088d48",
   "metadata": {},
   "outputs": [],
   "source": [
    "def GrowImage(SampleImage, Image, filledChecker, WindowSize):\n",
    "    MaxErrThreshold = 0.3\n",
    "    center_win = WindowSize-1//2\n",
    "    total = Image.shape[0] * Image.shape[1]\n",
    "    Filled = SampleImage.shape[0] * SampleImage.shape[1]\n",
    "\n",
    "    while (Filled < total):\n",
    "        progress = 0\n",
    "        pixel_list = GetUnfilledNeighbors(filledChecker, WindowSize)\n",
    "#         print(pixel_list)\n",
    "        # let it fix the value in the image\n",
    "        for pixel in pixel_list:\n",
    "            pixel_row = pixel[0]\n",
    "            pixel_col = pixel[1]\n",
    "            [template, validMask] = GetNeighborhoodWindow(Image, filledChecker, WindowSize, pixel_row, pixel_col)\n",
    "            [best_matches, SSD] = FindMatches(Sigma, template, validMask, ErrThreshold, SampleImage, WindowSize)\n",
    "            [bestMatch, bestMatchVal, bestMatch_err] = RandomPick(best_matches, SSD, WindowSize, SampleImage)\n",
    "            if(bestMatch_err < MaxErrThreshold):\n",
    "                Image[pixel_row,pixel_col,:] = bestMatchVal\n",
    "                filledChecker[pixel_row, pixel_col] = 1\n",
    "                Filled += 1\n",
    "                progress = 1\n",
    "        if progress == 1:\n",
    "            MaxErrThreshold *= 1.1\n",
    "    return Image"
   ]
  },
  {
   "cell_type": "code",
   "execution_count": 252,
   "id": "0dc786b0",
   "metadata": {},
   "outputs": [],
   "source": [
    "def GetUnfilledNeighbors(checker, win_size):\n",
    "#     pixel_list = np.nonzero(ndimage.binary_dilation(checker) - checker)\n",
    "    dilated_img = morphology.dilation(checker, np.ones((3,3)))\n",
    "#     print(dilated_img)\n",
    "    unfilledPixels = dilated_img - checker    \n",
    "    [pixel_rows, pixel_cols] = np.where(unfilledPixels > 0)\n",
    "    rand_index = np.random.permutation(len(pixel_rows))\n",
    "    pixel_rows = pixel_rows[rand_index]\n",
    "    pixel_cols = pixel_cols[rand_index]\n",
    "\n",
    "    neigh_sums = colfilt(checker, win_size)\n",
    "    permuted = neigh_sums[pixel_rows, pixel_cols]\n",
    "    sorted_permuted = np.argsort(permuted)[::-1]\n",
    "    pixel_list = pixel_rows[rand_index][sorted_permuted], pixel_cols[rand_index][sorted_permuted]\n",
    "    return pixel_list"
   ]
  },
  {
   "cell_type": "code",
   "execution_count": 253,
   "id": "0b3a8699",
   "metadata": {},
   "outputs": [],
   "source": [
    "def RandomPick(bestMatches, SSD, WindowSize, SampleImage):\n",
    "    bestMatch = bestMatches[math.ceil(random.random()*len(bestMatches))]\n",
    "    bestMatchErr = SSD[:, bestMatch]\n",
    "    [rowMatch, colMatch] = ind2sub(abs(np.array([SampleImage.shape[0],SampleImage.shape[1],SampleImage.shape[2]]) - np.array([WindowSize, WindowSize, WindowSize]) + 1), bestMatch);\n",
    "    mid = math.floor((WindowSize - 1) / 2);\n",
    "\n",
    "    bestMatchVal = SampleImage[round(rowMatch[0] + mid), round(colMatch[0] + mid)]\n",
    "    return bestMatch, bestMatchVal, bestMatchErr"
   ]
  },
  {
   "cell_type": "code",
   "execution_count": 256,
   "id": "d3878867",
   "metadata": {},
   "outputs": [
    {
     "name": "stdout",
     "output_type": "stream",
     "text": [
      "<class 'numpy.ndarray'>\n"
     ]
    },
    {
     "ename": "IndexError",
     "evalue": "index 1 is out of bounds for axis 0 with size 1",
     "output_type": "error",
     "traceback": [
      "\u001b[0;31m---------------------------------------------------------------------------\u001b[0m",
      "\u001b[0;31mIndexError\u001b[0m                                Traceback (most recent call last)",
      "Input \u001b[0;32mIn [256]\u001b[0m, in \u001b[0;36m<cell line: 1>\u001b[0;34m()\u001b[0m\n\u001b[0;32m----> 1\u001b[0m Image \u001b[38;5;241m=\u001b[39m \u001b[43mGrowImage\u001b[49m\u001b[43m(\u001b[49m\u001b[43mSampleImage\u001b[49m\u001b[43m,\u001b[49m\u001b[43m \u001b[49m\u001b[43mImage\u001b[49m\u001b[43m,\u001b[49m\u001b[43m \u001b[49m\u001b[43mfilledChecker\u001b[49m\u001b[43m,\u001b[49m\u001b[43m \u001b[49m\u001b[43mWindowSize\u001b[49m\u001b[43m)\u001b[49m\n",
      "Input \u001b[0;32mIn [251]\u001b[0m, in \u001b[0;36mGrowImage\u001b[0;34m(SampleImage, Image, filledChecker, WindowSize)\u001b[0m\n\u001b[1;32m     16\u001b[0m [best_matches, SSD] \u001b[38;5;241m=\u001b[39m FindMatches(Sigma, template, validMask, ErrThreshold, SampleImage, WindowSize)\n\u001b[1;32m     17\u001b[0m \u001b[38;5;28mprint\u001b[39m(\u001b[38;5;28mtype\u001b[39m(best_matches))\n\u001b[0;32m---> 18\u001b[0m [bestMatch, bestMatchVal, bestMatch_err] \u001b[38;5;241m=\u001b[39m \u001b[43mRandomPick\u001b[49m\u001b[43m(\u001b[49m\u001b[43mbest_matches\u001b[49m\u001b[43m,\u001b[49m\u001b[43m \u001b[49m\u001b[43mSSD\u001b[49m\u001b[43m,\u001b[49m\u001b[43m \u001b[49m\u001b[43mWindowSize\u001b[49m\u001b[43m,\u001b[49m\u001b[43m \u001b[49m\u001b[43mSampleImage\u001b[49m\u001b[43m)\u001b[49m\n\u001b[1;32m     19\u001b[0m \u001b[38;5;28;01mif\u001b[39;00m(bestMatch_err \u001b[38;5;241m<\u001b[39m MaxErrThreshold):\n\u001b[1;32m     20\u001b[0m     Image[pixel_row,pixel_col,:] \u001b[38;5;241m=\u001b[39m bestMatchVal\n",
      "Input \u001b[0;32mIn [253]\u001b[0m, in \u001b[0;36mRandomPick\u001b[0;34m(bestMatches, SSD, WindowSize, SampleImage)\u001b[0m\n\u001b[1;32m      1\u001b[0m \u001b[38;5;28;01mdef\u001b[39;00m \u001b[38;5;21mRandomPick\u001b[39m(bestMatches, SSD, WindowSize, SampleImage):\n\u001b[0;32m----> 2\u001b[0m     bestMatch \u001b[38;5;241m=\u001b[39m \u001b[43mbestMatches\u001b[49m\u001b[43m[\u001b[49m\u001b[43mmath\u001b[49m\u001b[38;5;241;43m.\u001b[39;49m\u001b[43mceil\u001b[49m\u001b[43m(\u001b[49m\u001b[43mrandom\u001b[49m\u001b[38;5;241;43m.\u001b[39;49m\u001b[43mrandom\u001b[49m\u001b[43m(\u001b[49m\u001b[43m)\u001b[49m\u001b[38;5;241;43m*\u001b[39;49m\u001b[38;5;28;43mlen\u001b[39;49m\u001b[43m(\u001b[49m\u001b[43mbestMatches\u001b[49m\u001b[43m)\u001b[49m\u001b[43m)\u001b[49m\u001b[43m]\u001b[49m\n\u001b[1;32m      3\u001b[0m     bestMatchErr \u001b[38;5;241m=\u001b[39m SSD[:, bestMatch]\n\u001b[1;32m      4\u001b[0m     [rowMatch, colMatch] \u001b[38;5;241m=\u001b[39m ind2sub(\u001b[38;5;28mabs\u001b[39m(np\u001b[38;5;241m.\u001b[39marray([SampleImage\u001b[38;5;241m.\u001b[39mshape[\u001b[38;5;241m0\u001b[39m],SampleImage\u001b[38;5;241m.\u001b[39mshape[\u001b[38;5;241m1\u001b[39m],SampleImage\u001b[38;5;241m.\u001b[39mshape[\u001b[38;5;241m2\u001b[39m]]) \u001b[38;5;241m-\u001b[39m np\u001b[38;5;241m.\u001b[39marray([WindowSize, WindowSize, WindowSize]) \u001b[38;5;241m+\u001b[39m \u001b[38;5;241m1\u001b[39m), bestMatch);\n",
      "\u001b[0;31mIndexError\u001b[0m: index 1 is out of bounds for axis 0 with size 1"
     ]
    }
   ],
   "source": [
    "Image = GrowImage(SampleImage, Image, filledChecker, WindowSize)"
   ]
  },
  {
   "cell_type": "code",
   "execution_count": 239,
   "id": "f24c87e4",
   "metadata": {},
   "outputs": [],
   "source": [
    "def ind2sub(array_shape, ind):\n",
    "    rows = (ind.astype('int') / array_shape[1])\n",
    "    cols = (ind.astype('int') % array_shape[1]) # or numpy.mod(ind.astype('int'), array_shape[1])\n",
    "    return (rows, cols)"
   ]
  },
  {
   "cell_type": "markdown",
   "id": "080fff95",
   "metadata": {},
   "source": [
    "Function GetUnfilledNeighbors() returns a list of all unfilled pixels that have filled pixels as their neighbors (the image is subtracted from its morphological dilation). The list is randomly permuted and then sorted by decreasing number of filled neighbor pixels. GetNeigborhoodWindow() returns a window of size WindowSize around a given pixel. RandomPick() picks an element randomly from the list. FindMatches() is as follows:\n"
   ]
  },
  {
   "cell_type": "code",
   "execution_count": 255,
   "id": "bb9a15bb",
   "metadata": {},
   "outputs": [],
   "source": [
    "def FindMatches(Sigma, template, validMask, ErrThreshold, SampleImage, WindowSize):\n",
    "    center_win = (WindowSize - 1) // 2 \n",
    "    GaussMask = Gaussian2D(WindowSize, Sigma)\n",
    "    mask = np.multiply(GaussMask, validMask)\n",
    "    TotWeight = np.sum(mask)\n",
    "\n",
    "    red_col = im2col(SampleImage[:,:,0], (WindowSize, WindowSize))\n",
    "    green_col = im2col(SampleImage[:,:,1], (WindowSize, WindowSize))\n",
    "    blue_col = im2col(SampleImage[:,:,2], (WindowSize, WindowSize))\n",
    "    \n",
    "    [pixelsInNeighborhood, numNeighborhoods] = red_col.shape\n",
    "    \n",
    "    red_val = template[:,:,0]\n",
    "    green_val = template[:,:,1]\n",
    "    blue_val = template[:,:,2]\n",
    "    \n",
    "    red_val = matlib.repmat(red_val.reshape(-1, 1), 1, numNeighborhoods)\n",
    "    green_val = matlib.repmat(green_val.reshape(-1, 1), 1, numNeighborhoods)\n",
    "    blue_val = matlib.repmat(blue_val.reshape(-1, 1), 1, numNeighborhoods)\n",
    "\n",
    "    \n",
    "    red_dist =  np.dot(mask.reshape(-1, 1).T, np.power((red_val - red_col), 2))\n",
    "    green_dist = np.dot(mask.reshape(-1, 1).T, np.power((green_val - green_col), 2))\n",
    "    blue_dist = np.dot(mask.reshape(-1, 1).T, np.power((blue_val - blue_col), 2))\n",
    "    SSD = (red_dist + green_dist + blue_dist) / TotWeight;\n",
    "    PixelList = np.where(np.multiply((SSD <= np.min(SSD)), (1+ErrThreshold)))\n",
    "    return np.array([PixelList]), SSD"
   ]
  },
  {
   "cell_type": "code",
   "execution_count": 14,
   "id": "6f6cc789",
   "metadata": {},
   "outputs": [],
   "source": [
    "def im2col(image, block_size, skip=1):\n",
    "    rows, cols = image.shape\n",
    "    horz_blocks = cols - block_size[1] + 1\n",
    "    vert_blocks = rows - block_size[0] + 1\n",
    "    \n",
    "    if vert_blocks <= 0 or horz_blocks <= 0:\n",
    "        return np.zeros((block_size[0] * block_size[1], 0), dtype = image.dtype)\n",
    "\n",
    "    output_vectors = np.zeros((block_size[0] * block_size[1], horz_blocks * vert_blocks), dtype = image.dtype)\n",
    "    itr = 0\n",
    "    \n",
    "    for v_b in range(vert_blocks):\n",
    "        for h_b in range(horz_blocks):\n",
    "            output_vectors[:, itr] = image[v_b: v_b + block_size[0], h_b: h_b + block_size[1]].ravel()\n",
    "            itr += 1\n",
    "\n",
    "    return output_vectors[:, ::skip]"
   ]
  },
  {
   "cell_type": "code",
   "execution_count": 16,
   "id": "2df9813a",
   "metadata": {},
   "outputs": [],
   "source": [
    "def Gaussian2D(WindowSize, Sigma):\n",
    "    center = WindowSize//2\n",
    "    kernel = np.zeros((WindowSize, WindowSize))\n",
    "    for i in range(WindowSize):\n",
    "        for j in range(WindowSize):\n",
    "            diff = np.sqrt((i-center)**2 + (j-center)**2)\n",
    "            kernel[i,j] = np.exp(-(diff**2)/(2*Sigma**2))\n",
    "    return kernel/np.sum(kernel)"
   ]
  },
  {
   "cell_type": "code",
   "execution_count": 17,
   "id": "7a0fbc82",
   "metadata": {},
   "outputs": [
    {
     "data": {
      "text/plain": [
       "<matplotlib.image.AxesImage at 0x7fc47808c0d0>"
      ]
     },
     "execution_count": 17,
     "metadata": {},
     "output_type": "execute_result"
    },
    {
     "data": {
      "image/png": "[encoded data removed]",
      "text/plain": [
       "<Figure size 432x288 with 1 Axes>"
      ]
     },
     "metadata": {
      "needs_background": "light"
     },
     "output_type": "display_data"
    }
   ],
   "source": [
    "plt.imshow(Gaussian2D(WindowSize, Sigma))"
   ]
  },
  {
   "cell_type": "code",
   "execution_count": 15,
   "id": "f0d753bd",
   "metadata": {},
   "outputs": [],
   "source": [
    "def convolutionPatches(src_img, halfWindow):\n",
    "    # PSEUDO CODE ----->  for i,j do\n",
    "    # PSEUDO CODE ----->  for ii,jj do\n",
    "    #Finds and stores all the possibel convolution patches possible for each given pixel\n",
    "    convPatches = []\n",
    "    for i in range(halfWindow, src_img.shape[0]-halfWindow-1):\n",
    "        for j in range(halfWindow, src_img.shape[1]-halfWindow-1):\n",
    "            convPatches.append(np.reshape(src_img[i-halfWindow:i + halfWindow + 1, j - halfWindow: j + halfWindow + 1], (2 * halfWindow + 1) ** 2))\n",
    "    convPatches = np.double(convPatches)\n",
    "    return convPatches\n",
    "\n",
    "def findMatches(template, convPatches, valid_mask, gauss_mask, windowSize, halfWindow, ErrThreshold):\n",
    "\n",
    "    #Reshaping them into a coloumn vector\n",
    "    template = np.reshape(template, windowSize*windowSize)\n",
    "    gauss_mask = np.reshape(gauss_mask, windowSize*windowSize)\n",
    "    valid_mask = np.reshape(valid_mask, windowSize*windowSize)\n",
    "    # PSEUDO CODE ----->   TotWeight = sum i,j GaussiMask(i,j)*ValidMask(i,j)\n",
    "    total_weight = np.sum(np.multiply(gauss_mask, valid_mask))\n",
    "    # PSEUDO CODE ----->   dist = (Template(ii,jj)-SampleImage(i-ii,j-jj))^2\n",
    "    distance = (convPatches-template)**2\n",
    "    # PSEUDO CODE ----->   SSD(i,j) = SSD(i,j) + dist*ValidMask(ii,jj)*GaussMask(ii,jj)\n",
    "    # PSEUDO CODE ----->   SSD(i,j) = SSD(i,j) / TotWeight\n",
    "    ssd = np.sum((distance*gauss_mask*valid_mask) / total_weight, axis=1)\n",
    "    # PSEUDO CODE ----->   min(SSD)\n",
    "    min_error = min(ssd)\n",
    "    j = int(((2 * halfWindow + 1) ** 2) / 2)\n",
    "    # PSEUDO CODE ----->   PixelList = all pixels (i,j) where SSD(i,j) <= min(SSD)*(1+ErrThreshold)\n",
    "    return [[err, convPatches[i][j]] for i, err in enumerate(ssd) if err <= min_error*(1+ErrThreshold)]\n"
   ]
  },
  {
   "cell_type": "markdown",
   "id": "8ae28ad1",
   "metadata": {},
   "source": [
    "\n",
    "Gaussian2D() generates a two-dimensional Gaussian in a window of given a size centered in the center and with a given standard deviation (in pixels). In our implementation the constant were set as follows: ErrThreshold = 0.1, MaxErrThreshold = 0.3, Sigma = WindowSize/6.4. Pixel values are in the range of 0 to 1. "
   ]
  }
 ],
 "metadata": {
  "kernelspec": {
   "display_name": "Python 3 (ipykernel)",
   "language": "python",
   "name": "python3"
  },
  "language_info": {
   "codemirror_mode": {
    "name": "ipython",
    "version": 3
   },
   "file_extension": ".py",
   "mimetype": "text/x-python",
   "name": "python",
   "nbconvert_exporter": "python",
   "pygments_lexer": "ipython3",
   "version": "3.9.12"
  }
 },
 "nbformat": 4,
 "nbformat_minor": 5
}
