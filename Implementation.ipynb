{
 "cells": [
  {
   "cell_type": "markdown",
   "id": "2a1799ef",
   "metadata": {},
   "source": [
    "Let SampleImage contain the image we are sampling from and let Image be the mostly empty image that we want to fill in (if synthesizing from scratch, it should contain a 3-by-3 seed in the center randomly taken from SampleImage, for constrained synthesis it should contain all the known pixels). WindowSize, the size of the neighborhood window, is the only user-settable parameter. The main portion of the algorithm is presented below:"
   ]
  },
  {
   "cell_type": "code",
   "execution_count": null,
   "id": "ee4dc07a",
   "metadata": {},
   "outputs": [],
   "source": [
    "def GrowImage(SampleImage,Image,WindowSize):\n",
    "    while Image not filled:\n",
    "        progress = 0\n",
    "        PixelList = GetUnfilledNeighbors(Image)\n",
    "        for pixel in PixelList:\n",
    "            Template = GetNeighborhoodWindow(Pixel)\n",
    "            BestMatches = FindMatches(Template, SampleImage)\n",
    "            BestMatch = RandomPick(BestMatches)\n",
    "            if (BestMatch.error < MaxErrThreshold) then\n",
    "                Pixel.value = BestMatch.value\n",
    "                progress = 1\n",
    "    if progress == 0:\n",
    "        MaxErrThreshold = MaxErrThreshold * 1.1\n",
    "    return Image"
   ]
  },
  {
   "cell_type": "markdown",
   "id": "080fff95",
   "metadata": {},
   "source": [
    "Function GetUnfilledNeighbors() returns a list of all unfilled pixels that have filled pixels as their neighbors (the image is subtracted from its morphological dilation). The list is randomly permuted and then sorted by decreasing number of filled neighbor pixels. GetNeigborhoodWindow() returns a window of size WindowSize around a given pixel. RandomPick() picks an element randomly from the list. FindMatches() is as follows:\n"
   ]
  },
  {
   "cell_type": "code",
   "execution_count": null,
   "id": "bb9a15bb",
   "metadata": {},
   "outputs": [],
   "source": [
    "def FindMatches(Template,SampleImage):\n",
    "    ValidMask = 1s where Template is filled, 0s otherwise\n",
    "    GaussMask = Gaussian2D(WindowSize,Sigma)\n",
    "    TotWeight = sum i,j GaussiMask(i,j)*ValidMask(i,j)\n",
    "    for i,j do\n",
    "        for ii,jj do\n",
    "            dist = (Template(ii,jj)-SampleImage(i-ii,j-jj))^2\n",
    "            SSD(i,j) = SSD(i,j) + dist*ValidMask(ii,jj)*GaussMask(ii,jj)\n",
    "        SSD(i,j) = SSD(i,j) / TotWeight\n",
    "    PixelList = all pixels (i,j) where SSD(i,j) <= min(SSD)*(1+ErrThreshold)\n",
    "    return PixelList"
   ]
  },
  {
   "cell_type": "markdown",
   "id": "8ae28ad1",
   "metadata": {},
   "source": [
    "\n",
    "Gaussian2D() generates a two-dimensional Gaussian in a window of given a size centered in the center and with a given standard deviation (in pixels). In our implementation the constant were set as follows: ErrThreshold = 0.1, MaxErrThreshold = 0.3, Sigma = WindowSize/6.4. Pixel values are in the range of 0 to 1. "
   ]
  },
  {
   "cell_type": "code",
   "execution_count": null,
   "id": "2bf8e3b9",
   "metadata": {},
   "outputs": [],
   "source": []
  }
 ],
 "metadata": {
  "kernelspec": {
   "display_name": "Python 3 (ipykernel)",
   "language": "python",
   "name": "python3"
  },
  "language_info": {
   "codemirror_mode": {
    "name": "ipython",
    "version": 3
   },
   "file_extension": ".py",
   "mimetype": "text/x-python",
   "name": "python",
   "nbconvert_exporter": "python",
   "pygments_lexer": "ipython3",
   "version": "3.10.6"
  }
 },
 "nbformat": 4,
 "nbformat_minor": 5
}
